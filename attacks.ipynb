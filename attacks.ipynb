{
 "cells": [
  {
   "cell_type": "markdown",
   "metadata": {},
   "source": [
    "# DV2607 Project Notebook\n",
    "### Authors:\n",
    "### Oliver Ljung (ollj19@student.bth.se)\n",
    "### Phoebe Waters (phaa19@student.bth.se)"
   ]
  },
  {
   "cell_type": "markdown",
   "metadata": {},
   "source": [
    "## Importing modules and dataset"
   ]
  },
  {
   "cell_type": "code",
   "execution_count": null,
   "metadata": {},
   "outputs": [],
   "source": [
    "# imports\n",
    "from matplotlib import pyplot as plt\n",
    "import numpy as np\n",
    "\n",
    "import tensorflow as tf\n",
    "\n",
    "from keras.layers import Conv2D, Conv2DTranspose, MaxPooling2D, Flatten, Dense, Input, Activation, BatchNormalization, LeakyReLU, Reshape, UpSampling2D, Dropout, ReLU\n",
    "from keras import Sequential, Model\n",
    "from keras.datasets import mnist\n",
    "from tensorflow.keras.datasets import cifar10\n",
    "from keras.utils import to_categorical\n",
    "import keras.backend as KB\n",
    "\n",
    "from keras.losses import BinaryCrossentropy, CategoricalCrossentropy, Hinge, SquaredHinge, MeanSquaredError, Loss, SparseCategoricalCrossentropy\n",
    "\n",
    "import random\n",
    "import time\n",
    "\n",
    "import art\n",
    "from art.attacks.evasion import FastGradientMethod, ProjectedGradientDescent, CarliniL2Method, CarliniL0Method\n",
    "from art.estimators.classification import KerasClassifier\n",
    "\n",
    "tf.compat.v1.disable_eager_execution()      # Enable when training NN but has to be disabled for art\n",
    "print(tf.config.list_physical_devices('GPU'))"
   ]
  },
  {
   "cell_type": "code",
   "execution_count": null,
   "metadata": {},
   "outputs": [],
   "source": [
    "gpus = tf.config.list_physical_devices('GPU')\n",
    "if gpus:\n",
    "  # Restrict TensorFlow to only use the first GPU\n",
    "  try:\n",
    "    tf.config.set_visible_devices(gpus[0], 'GPU')\n",
    "    logical_gpus = tf.config.list_logical_devices('GPU')\n",
    "    print(len(gpus), \"Physical GPUs,\", len(logical_gpus), \"Logical GPU\")\n",
    "  except RuntimeError as e:\n",
    "    # Visible devices must be set before GPUs have been initialized\n",
    "    print(e)"
   ]
  },
  {
   "cell_type": "markdown",
   "metadata": {},
   "source": [
    "## Defining functions"
   ]
  },
  {
   "cell_type": "code",
   "execution_count": null,
   "metadata": {},
   "outputs": [],
   "source": [
    "# Defining functions\n",
    "\n",
    "def display_attack(x_test, x_adv_test, model):\n",
    "    x_real = x_test[:9]\n",
    "\n",
    "    x_fake = x_adv_test[:9]\n",
    "    x_fake_labels = model.predict(x_fake)\n",
    "    x_real_labels = model.predict(x_real)\n",
    "\n",
    "    for i in range(9):\n",
    "        fig = plt.subplot(3, 3, i+1)\n",
    "        fig.imshow(x_fake[i], cmap=plt.get_cmap('gray'))\n",
    "        print(f'p_fake = {np.argmax(x_fake_labels[i])}, p_real = {np.argmax(x_real_labels[i])}')\n",
    "    plt.show()"
   ]
  },
  {
   "cell_type": "markdown",
   "metadata": {},
   "source": [
    "## Loading dataset"
   ]
  },
  {
   "attachments": {},
   "cell_type": "markdown",
   "metadata": {},
   "source": [
    "### MNIST"
   ]
  },
  {
   "cell_type": "code",
   "execution_count": null,
   "metadata": {},
   "outputs": [],
   "source": [
    "# load dataset\n",
    "(train_X, train_y), (test_X, test_y) = mnist.load_data()\n",
    "\n",
    "train_X = train_X.astype(\"float32\") / 255\n",
    "test_X = test_X.astype(\"float32\") / 255\n",
    "\n",
    "train_X = np.expand_dims(train_X, -1)\n",
    "test_X = np.expand_dims(test_X, -1)\n",
    "\n",
    "train_y = to_categorical(train_y)\n",
    "train_y = np.array([np.argmax(y) for y in train_y])\n",
    "test_y  = to_categorical(test_y)\n",
    "test_y = np.array([np.argmax(y) for y in test_y])\n",
    "\n",
    "IMG_SHAPE = (28,28,1)\n",
    "CHANNELS = 1\n",
    "NUM_CLASSES = 10\n",
    "IMG_LOW_LIMIT = 0\n",
    "IMG_HIGH_LIMIT = 1"
   ]
  },
  {
   "attachments": {},
   "cell_type": "markdown",
   "metadata": {},
   "source": [
    "### CIFAR-10"
   ]
  },
  {
   "cell_type": "code",
   "execution_count": null,
   "metadata": {},
   "outputs": [],
   "source": [
    "# load dataset\n",
    "import ssl\n",
    "# ssl._create_default_https_context = ssl._create_unverified_context\n",
    "\n",
    "# (train_X, train_y), (test_X, test_y) = cifar10.load_data()\n",
    "\n",
    "# train_X = train_X.astype(\"float32\")/255\n",
    "# test_X = test_X.astype(\"float32\")/255\n",
    "\n",
    "# train_y = to_categorical(train_y)\n",
    "# train_y = np.array([np.argmax(y) for y in train_y])\n",
    "# test_y  = to_categorical(test_y)\n",
    "# test_y = np.array([np.argmax(y) for y in test_y])\n",
    "\n",
    "# IMG_SHAPE = (32,32,3)\n",
    "# CHANNELS = 3\n",
    "# NUM_CLASSES = 10\n",
    "# IMG_LOW_LIMIT = 0\n",
    "# IMG_HIGH_LIMIT = 1"
   ]
  },
  {
   "attachments": {},
   "cell_type": "markdown",
   "metadata": {},
   "source": [
    "## Load models"
   ]
  },
  {
   "cell_type": "code",
   "execution_count": null,
   "metadata": {},
   "outputs": [],
   "source": [
    "# To use same models as in paper\n",
    "\n",
    "model = tf.keras.models.load_model(\"models/mnist_classifier__report.h5\")\n",
    "discriminator = tf.keras.models.load_model(\"models/mnist_adv_discriminator_t0__report.h5\")      \n",
    "adv_generator = tf.keras.models.load_model(\"models/mnist_adv_generator_t0__report.h5\")\n",
    "\n",
    "# Have to convert classifier model to art\n",
    "clf = KerasClassifier(model=model)"
   ]
  },
  {
   "attachments": {},
   "cell_type": "markdown",
   "metadata": {},
   "source": [
    "# Attacks"
   ]
  },
  {
   "attachments": {},
   "cell_type": "markdown",
   "metadata": {},
   "source": [
    "## 0. Baseline"
   ]
  },
  {
   "cell_type": "code",
   "execution_count": null,
   "metadata": {},
   "outputs": [],
   "source": [
    "# Baseline for attack (% classified as 0s in test)\n",
    "model.evaluate(test_X, np.zeros(len(test_X)))"
   ]
  },
  {
   "attachments": {},
   "cell_type": "markdown",
   "metadata": {},
   "source": [
    "## 1. AdvGAN"
   ]
  },
  {
   "cell_type": "code",
   "execution_count": null,
   "metadata": {},
   "outputs": [],
   "source": [
    "perturbations = adv_generator.predict(test_X, verbose = 1)\n",
    "advGAN_test_X = np.add(test_X, perturbations)\n",
    "advGAN_test_X = np.clip(advGAN_test_X, 0, 1) # Values in image is [0,1]\n",
    "model.evaluate(advGAN_test_X, np.zeros([len(advGAN_test_X), 1]))"
   ]
  },
  {
   "cell_type": "code",
   "execution_count": null,
   "metadata": {},
   "outputs": [],
   "source": [
    "display_attack(test_X, advGAN_test_X, model)"
   ]
  },
  {
   "attachments": {},
   "cell_type": "markdown",
   "metadata": {},
   "source": [
    "## 2. FGM"
   ]
  },
  {
   "cell_type": "code",
   "execution_count": null,
   "metadata": {},
   "outputs": [],
   "source": [
    "def fast_gradient_method_attack(x_test, clf):\n",
    "    # MNIST params: eps=0.03, 10 steps\n",
    "    # CIFAR-10 params: eps=0.01, 10 steps\n",
    "    FGM = FastGradientMethod(clf, eps=0.03, targeted=True, batch_size=32)\n",
    "\n",
    "    # Targeted Attack\n",
    "    target_prediction = np.zeros([len(x_test), 1])\n",
    "\n",
    "    FGM_test_X = FGM.generate(x_test, target_prediction)\n",
    "    for step in range(10):\n",
    "        FGM_test_X = FGM.generate(FGM_test_X, target_prediction)\n",
    "\n",
    "    return FGM_test_X\n",
    "\n",
    "FGM_test_X = fast_gradient_method_attack(test_X, clf)\n",
    "model.evaluate(FGM_test_X, np.zeros(len(FGM_test_X)))"
   ]
  },
  {
   "cell_type": "code",
   "execution_count": null,
   "metadata": {},
   "outputs": [],
   "source": [
    "display_attack(test_X, FGM_test_X, model)"
   ]
  },
  {
   "attachments": {},
   "cell_type": "markdown",
   "metadata": {},
   "source": [
    "## 2. PGD"
   ]
  },
  {
   "cell_type": "code",
   "execution_count": null,
   "metadata": {},
   "outputs": [],
   "source": [
    "def projected_gradient_descent_attack(x_test, clf):\n",
    "    # MNIST params: max_iter=10, eps_step=0.05, eps=0.3\n",
    "    # CIFAR-10 params: max_iter=10, eps_step=0.01, eps=0.1, \n",
    "    PGD = ProjectedGradientDescent(clf, targeted=True, max_iter=10, eps_step=0.05, eps=0.3, verbose=False)\n",
    "\n",
    "    # Targeted Attack\n",
    "    target_prediction = np.zeros([len(x_test), 1])\n",
    "\n",
    "    PGD_test_X = PGD.generate(x_test, target_prediction)\n",
    "\n",
    "    return PGD_test_X\n",
    "\n",
    "PGD_test_X = projected_gradient_descent_attack(test_X, clf)\n",
    "model.evaluate(PGD_test_X, np.zeros(len(PGD_test_X)))"
   ]
  },
  {
   "cell_type": "code",
   "execution_count": null,
   "metadata": {},
   "outputs": [],
   "source": [
    "display_attack(test_X, PGD_test_X, model)"
   ]
  },
  {
   "attachments": {},
   "cell_type": "markdown",
   "metadata": {},
   "source": [
    "# Defence"
   ]
  },
  {
   "attachments": {},
   "cell_type": "markdown",
   "metadata": {},
   "source": [
    "## 1. Binary Input detector (discriminator)"
   ]
  },
  {
   "cell_type": "code",
   "execution_count": null,
   "metadata": {},
   "outputs": [],
   "source": [
    "class BinaryInputDetector():\n",
    "    def __init__(self, detector, target_model):\n",
    "        self._detector = detector\n",
    "        self._target_model = target_model\n",
    "    \n",
    "    def predict(self, array):\n",
    "        prediction = []\n",
    "        \n",
    "        for element in array:\n",
    "            if self._detector.predict(np.array([element]))[0][0] < 0.5:\n",
    "                # Advesary\n",
    "                prediction.append(-1)\n",
    "            else:\n",
    "                # Real\n",
    "                p = self._target_model.predict(np.array([element]))\n",
    "                p_id = np.argmax(p)\n",
    "                prediction.append(p_id)\n",
    "        \n",
    "        adv_rate = prediction.count(-1)/len(prediction)\n",
    "        return np.array(prediction), adv_rate"
   ]
  },
  {
   "cell_type": "code",
   "execution_count": null,
   "metadata": {},
   "outputs": [],
   "source": [
    "# discriminator = tf.keras.models.load_model(\"models/mnist_discriminator__report.h5\")  # For normal GAN BID\n",
    "BID = BinaryInputDetector(discriminator, model)\n",
    "\n",
    "y_pred_BASE, adv_rate_BASE = BID.predict(test_X)\n",
    "y_pred_FGM, adv_rate_FGM = BID.predict(FGM_test_X)\n",
    "y_pred_PGD, adv_rate_PGD = BID.predict(PGD_test_X)\n",
    "y_pred_advGAN , adv_rate_advGAN  = BID.predict(advGAN_test_X)\n",
    "\n",
    "print(f\"Adv rates: BASE: {adv_rate_BASE}, FGM: {adv_rate_FGM}, PGD: {adv_rate_PGD}, advGAN: {adv_rate_advGAN}\")"
   ]
  }
 ],
 "metadata": {
  "kernelspec": {
   "display_name": "Python 3",
   "language": "python",
   "name": "python3"
  },
  "language_info": {
   "codemirror_mode": {
    "name": "ipython",
    "version": 3
   },
   "file_extension": ".py",
   "mimetype": "text/x-python",
   "name": "python",
   "nbconvert_exporter": "python",
   "pygments_lexer": "ipython3",
   "version": "3.10.9 (tags/v3.10.9:1dd9be6, Dec  6 2022, 20:01:21) [MSC v.1934 64 bit (AMD64)]"
  },
  "orig_nbformat": 4,
  "vscode": {
   "interpreter": {
    "hash": "33a4542e4cc6c10be1951f7181ece9e030a5d84a8de853c4e052a2492c0e6b9c"
   }
  }
 },
 "nbformat": 4,
 "nbformat_minor": 2
}
