{
 "cells": [
  {
   "cell_type": "markdown",
   "metadata": {},
   "source": [
    "# DV2607 Project Notebook\n",
    "### Authors:\n",
    "### Oliver Ljung (ollj19@student.bth.se)\n",
    "### Phoebe Waters (phaa19@student.bth.se)"
   ]
  },
  {
   "cell_type": "markdown",
   "metadata": {},
   "source": [
    "## Importing modules and dataset"
   ]
  },
  {
   "cell_type": "code",
   "execution_count": 50,
   "metadata": {},
   "outputs": [],
   "source": [
    "# imports\n",
    "from matplotlib import pyplot as plt\n",
    "import numpy as np\n",
    "\n",
    "import tensorflow as tf\n",
    "\n",
    "from keras.layers import Conv2D, MaxPooling2D, Flatten, Dense, Input, Activation, BatchNormalization, LeakyReLU, Reshape, UpSampling2D, Dropout\n",
    "from keras import Sequential, Model\n",
    "from keras.datasets import mnist\n",
    "from keras.utils import to_categorical\n",
    "import keras.backend as KB\n",
    "\n",
    "from keras.losses import BinaryCrossentropy, CategoricalCrossentropy, Hinge # Loss Classes\n",
    "from keras.losses import binary_crossentropy, categorical_crossentropy, hinge # Loss functions\n",
    "\n",
    "import random"
   ]
  },
  {
   "cell_type": "markdown",
   "metadata": {},
   "source": [
    "## Defining functions"
   ]
  },
  {
   "cell_type": "code",
   "execution_count": 51,
   "metadata": {},
   "outputs": [],
   "source": [
    "# Defining functions\n",
    "\n",
    "def create_classifier():\n",
    "    # Create a CNN model\n",
    "    model = Sequential(name=\"mnist_classifier\")\n",
    "\n",
    "    # Add Convolution layers\n",
    "    model.add(Conv2D(28, (3,3), activation='relu', input_shape=(28,28,1)))\n",
    "    model.add(MaxPooling2D((2, 2)))\n",
    "\n",
    "    model.add(Conv2D(56, (3,3), activation='relu'))\n",
    "    model.add(MaxPooling2D((2, 2)))\n",
    "\n",
    "    model.add(Conv2D(56, (3,3), activation='relu'))\n",
    "\n",
    "    model.add(Flatten())\n",
    "\n",
    "    # Add predictive layers\n",
    "    model.add(Dense(56, activation='relu'))\n",
    "    model.add(Dense(10, activation='softmax', name=\"classication_output\"))\n",
    "    \n",
    "    print(model.summary())\n",
    "\n",
    "    # Add input\n",
    "    input = Input(shape = (28,28,1))\n",
    "\n",
    "    # Get ouput from model\n",
    "    prediction = model(input)\n",
    "\n",
    "    return model\n",
    "    return Model(input, prediction)\n",
    "\n",
    "def create_generator():\n",
    "    # Create a CNN model\n",
    "    model = Sequential(name=\"generator\")\n",
    "\n",
    "    model.add(Dense(7*7*28, activation='relu', input_dim=100))\n",
    "    model.add(Reshape((7,7,28)))\n",
    "\n",
    "    model.add(UpSampling2D())\n",
    "    model.add(Conv2D(28, (3,3), activation='relu', padding=\"same\"))\n",
    "    model.add(BatchNormalization(momentum=0.8))\n",
    "    model.add(LeakyReLU())\n",
    "\n",
    "    model.add(UpSampling2D())\n",
    "    model.add(Conv2D(56, (3,3), activation='relu', padding=\"same\"))\n",
    "    model.add(BatchNormalization(momentum=0.8))\n",
    "    model.add(LeakyReLU())\n",
    "    \n",
    "    model.add(Conv2D(1, (3,3), activation='relu', padding=\"same\"))\n",
    "    model.add(Activation('tanh', name=\"image_output\"))\n",
    "\n",
    "    print(model.summary())\n",
    "\n",
    "    input = Input(shape = (100))\n",
    "    \n",
    "    img = model(input)\n",
    "    \n",
    "    return model\n",
    "    return Model(input, img)\n",
    "\n",
    "def create_adv_generator():\n",
    "    # Create a CNN model\n",
    "    model = Sequential(name=\"adv_generator\")\n",
    "\n",
    "    model.add(Conv2D(28, (3,3), activation='relu', padding=\"same\", input_shape=(28,28,1)))\n",
    "    model.add(MaxPooling2D((2, 2)))\n",
    "    \n",
    "    model.add(Conv2D(28, (3,3), activation='relu', padding=\"same\"))\n",
    "    model.add(BatchNormalization(momentum=0.8))\n",
    "    model.add(LeakyReLU())\n",
    "\n",
    "    model.add(UpSampling2D())\n",
    "    model.add(Conv2D(56, (3,3), activation='relu', padding=\"same\"))\n",
    "    model.add(BatchNormalization(momentum=0.8))\n",
    "    model.add(LeakyReLU())\n",
    "    \n",
    "    model.add(Conv2D(1, (3,3), activation='relu', padding=\"same\"))\n",
    "    model.add(Activation('tanh', name=\"adv_image_output\"))\n",
    "\n",
    "    print(model.summary())\n",
    "\n",
    "    input = Input(shape = (28,28,1))\n",
    "    \n",
    "    img = model(input)\n",
    "    \n",
    "    return model\n",
    "    return Model(input, img)\n",
    "\n",
    "def create_discriminator():\n",
    "    # Create a CNN model\n",
    "    model = Sequential(name=\"discriminator\")\n",
    "\n",
    "    # Add Convolution layers\n",
    "    model.add(Conv2D(28, (3,3), activation='relu', input_shape=(28,28,1)))\n",
    "    model.add(MaxPooling2D((2, 2)))\n",
    "\n",
    "    model.add(Conv2D(56, (3,3), activation='relu'))\n",
    "\n",
    "    model.add(Flatten())\n",
    "\n",
    "    # Add predictive layers\n",
    "    model.add(Dense(56, activation='relu'))\n",
    "    model.add(Dense(1, activation='sigmoid', name=\"validity_output\"))\n",
    "    \n",
    "    print(model.summary())\n",
    "\n",
    "    # Add input\n",
    "    input = Input(shape = (28,28,1))\n",
    "\n",
    "    # Get ouput from model\n",
    "    validity = model(input)\n",
    "\n",
    "    return model\n",
    "    return Model(input, validity)"
   ]
  },
  {
   "cell_type": "markdown",
   "metadata": {},
   "source": [
    "## Loading dataset"
   ]
  },
  {
   "cell_type": "code",
   "execution_count": 52,
   "metadata": {},
   "outputs": [],
   "source": [
    "# load dataset\n",
    "(train_X, train_y), (test_X, test_y) = mnist.load_data()\n",
    "\n",
    "train_X = train_X.astype(\"float32\") / 255\n",
    "test_X = test_X.astype(\"float32\") / 255\n",
    "\n",
    "train_X = np.expand_dims(train_X, -1)\n",
    "test_X = np.expand_dims(test_X, -1)\n",
    "\n",
    "train_y = to_categorical(train_y)\n",
    "test_y  = to_categorical(test_y)"
   ]
  },
  {
   "cell_type": "code",
   "execution_count": 53,
   "metadata": {},
   "outputs": [
    {
     "data": {
      "image/png": "[encoded data removed]",
      "text/plain": [
       "<Figure size 640x480 with 9 Axes>"
      ]
     },
     "metadata": {},
     "output_type": "display_data"
    }
   ],
   "source": [
    "for i in range(9):\n",
    "    plt.subplot(3, 3, i+1)\n",
    "    plt.imshow(train_X[i], cmap=plt.get_cmap('gray'))\n",
    "plt.show()"
   ]
  },
  {
   "cell_type": "markdown",
   "metadata": {},
   "source": [
    "## Training the Classifier; model to attack and later defend"
   ]
  },
  {
   "cell_type": "code",
   "execution_count": 54,
   "metadata": {},
   "outputs": [
    {
     "name": "stdout",
     "output_type": "stream",
     "text": [
      "Model: \"mnist_classifier\"\n",
      "_________________________________________________________________\n",
      " Layer (type)                Output Shape              Param #   \n",
      "=================================================================\n",
      " conv2d_65 (Conv2D)          (None, 26, 26, 28)        280       \n",
      "                                                                 \n",
      " max_pooling2d_28 (MaxPoolin  (None, 13, 13, 28)       0         \n",
      " g2D)                                                            \n",
      "                                                                 \n",
      " conv2d_66 (Conv2D)          (None, 11, 11, 56)        14168     \n",
      "                                                                 \n",
      " max_pooling2d_29 (MaxPoolin  (None, 5, 5, 56)         0         \n",
      " g2D)                                                            \n",
      "                                                                 \n",
      " conv2d_67 (Conv2D)          (None, 3, 3, 56)          28280     \n",
      "                                                                 \n",
      " flatten_13 (Flatten)        (None, 504)               0         \n",
      "                                                                 \n",
      " dense_17 (Dense)            (None, 56)                28280     \n",
      "                                                                 \n",
      " classication_output (Dense)  (None, 10)               570       \n",
      "                                                                 \n",
      "=================================================================\n",
      "Total params: 71,578\n",
      "Trainable params: 71,578\n",
      "Non-trainable params: 0\n",
      "_________________________________________________________________\n",
      "None\n",
      "1875/1875 [==============================] - 29s 15ms/step - loss: 0.1550 - accuracy: 0.9518\n"
     ]
    }
   ],
   "source": [
    "optimizer = tf.optimizers.Adam()\n",
    "\n",
    "model = create_classifier()\n",
    "model.compile(optimizer=optimizer, loss=CategoricalCrossentropy(), metrics=[\"accuracy\"])\n",
    "\n",
    "model.fit(train_X, train_y)\n",
    "model.save(\"classifier.h5\")"
   ]
  },
  {
   "cell_type": "markdown",
   "metadata": {},
   "source": [
    "### Model baseline"
   ]
  },
  {
   "cell_type": "code",
   "execution_count": 55,
   "metadata": {},
   "outputs": [
    {
     "name": "stdout",
     "output_type": "stream",
     "text": [
      "313/313 [==============================] - 2s 6ms/step - loss: 0.0440 - accuracy: 0.9868\n"
     ]
    },
    {
     "data": {
      "text/plain": [
       "[0.044028379023075104, 0.9868000149726868]"
      ]
     },
     "execution_count": 55,
     "metadata": {},
     "output_type": "execute_result"
    }
   ],
   "source": [
    "model.evaluate(test_X, test_y)"
   ]
  },
  {
   "cell_type": "markdown",
   "metadata": {},
   "source": [
    "## Defining models and input tensors"
   ]
  },
  {
   "cell_type": "code",
   "execution_count": 68,
   "metadata": {},
   "outputs": [
    {
     "name": "stdout",
     "output_type": "stream",
     "text": [
      "Model: \"adv_generator\"\n",
      "_________________________________________________________________\n",
      " Layer (type)                Output Shape              Param #   \n",
      "=================================================================\n",
      " conv2d_116 (Conv2D)         (None, 28, 28, 28)        280       \n",
      "                                                                 \n",
      " max_pooling2d_46 (MaxPoolin  (None, 14, 14, 28)       0         \n",
      " g2D)                                                            \n",
      "                                                                 \n",
      " conv2d_117 (Conv2D)         (None, 14, 14, 28)        7084      \n",
      "                                                                 \n",
      " batch_normalization_32 (Bat  (None, 14, 14, 28)       112       \n",
      " chNormalization)                                                \n",
      "                                                                 \n",
      " leaky_re_lu_32 (LeakyReLU)  (None, 14, 14, 28)        0         \n",
      "                                                                 \n",
      " up_sampling2d_16 (UpSamplin  (None, 28, 28, 28)       0         \n",
      " g2D)                                                            \n",
      "                                                                 \n",
      " conv2d_118 (Conv2D)         (None, 28, 28, 56)        14168     \n",
      "                                                                 \n",
      " batch_normalization_33 (Bat  (None, 28, 28, 56)       224       \n",
      " chNormalization)                                                \n",
      "                                                                 \n",
      " leaky_re_lu_33 (LeakyReLU)  (None, 28, 28, 56)        0         \n",
      "                                                                 \n",
      " conv2d_119 (Conv2D)         (None, 28, 28, 1)         505       \n",
      "                                                                 \n",
      " adv_image_output (Activatio  (None, 28, 28, 1)        0         \n",
      " n)                                                              \n",
      "                                                                 \n",
      "=================================================================\n",
      "Total params: 22,373\n",
      "Trainable params: 22,205\n",
      "Non-trainable params: 168\n",
      "_________________________________________________________________\n",
      "None\n",
      "Model: \"discriminator\"\n",
      "_________________________________________________________________\n",
      " Layer (type)                Output Shape              Param #   \n",
      "=================================================================\n",
      " conv2d_120 (Conv2D)         (None, 26, 26, 28)        280       \n",
      "                                                                 \n",
      " max_pooling2d_47 (MaxPoolin  (None, 13, 13, 28)       0         \n",
      " g2D)                                                            \n",
      "                                                                 \n",
      " conv2d_121 (Conv2D)         (None, 11, 11, 56)        14168     \n",
      "                                                                 \n",
      " flatten_22 (Flatten)        (None, 6776)              0         \n",
      "                                                                 \n",
      " dense_26 (Dense)            (None, 56)                379512    \n",
      "                                                                 \n",
      " validity_output (Dense)     (None, 1)                 57        \n",
      "                                                                 \n",
      "=================================================================\n",
      "Total params: 394,017\n",
      "Trainable params: 394,017\n",
      "Non-trainable params: 0\n",
      "_________________________________________________________________\n",
      "None\n",
      "Model: \"model_29\"\n",
      "__________________________________________________________________________________________________\n",
      " Layer (type)                   Output Shape         Param #     Connected to                     \n",
      "==================================================================================================\n",
      " input_78 (InputLayer)          [(None, 28, 28, 1)]  0           []                               \n",
      "                                                                                                  \n",
      " mnist_classifier (Sequential)  (None, 10)           71578       ['input_78[0][0]']               \n",
      "                                                                                                  \n",
      " discriminator (Sequential)     (None, 1)            394017      ['input_78[0][0]']               \n",
      "                                                                                                  \n",
      " input_77 (InputLayer)          multiple             0           []                               \n",
      "                                                                                                  \n",
      "==================================================================================================\n",
      "Total params: 465,595\n",
      "Trainable params: 0\n",
      "Non-trainable params: 465,595\n",
      "__________________________________________________________________________________________________\n"
     ]
    }
   ],
   "source": [
    "optimizer = tf.optimizers.Adam()\n",
    "\n",
    "input = Input(shape=(28,28,1), name=\"image\")\n",
    "\n",
    "adv_generator = create_adv_generator()\n",
    "adv_image = adv_generator(input)\n",
    "adv_image = tf.clip_by_value(adv_image, 0, 1) # Values in image is [0,1]\n",
    "\n",
    "perturbations = adv_image - input\n",
    "\n",
    "\n",
    "# We want the generator and discriminator to be trained in a combined model but as seperate entities\n",
    "discriminator = create_discriminator()\n",
    "discriminator.compile(optimizer=optimizer, loss=BinaryCrossentropy(), metrics=[\"accuracy\"])\n",
    "discriminator.trainable = False\n",
    "validity = discriminator(adv_image)\n",
    "\n",
    "# We dont want to train our model to attack\n",
    "model.trainable = False\n",
    "prediction = model(adv_image)\n",
    "\n",
    "# This is a targeted attack\n",
    "target_prediction = Input(shape= (10,))\n",
    "target_validity = Input(shape= (1,))\n",
    "target_hinge_limit = Input(shape= (None, 28,28,1))\n",
    "\n",
    "x = {\n",
    "        \"mnist_classifier\": adv_image,\n",
    "        \"discriminator\": adv_image,\n",
    "        \"adv_image_output\": perturbations\n",
    "    }\n",
    "\n",
    "y = {\n",
    "    \"classication_output\": target_prediction,\n",
    "    \"validity_output\": target_validity,\n",
    "    \"adv_image_output\": target_hinge_limit\n",
    "    }\n",
    "\n",
    "GAN_model = Model(inputs=adv_image, outputs=[prediction, validity, target_hinge_limit])\n",
    "\n",
    "alpha = 2\n",
    "beta = 1\n",
    "c = 0\n",
    "\n",
    "L_adv = CategoricalCrossentropy(from_logits=False)\n",
    "L_GAN = BinaryCrossentropy(from_logits=False)\n",
    "L_hinge = CategoricalCrossentropy()\n",
    "\n",
    "losses = {\n",
    "    \"classication_output\": L_adv,\n",
    "    \"validity_output\": L_GAN,\n",
    "    \"adv_image_output\": L_hinge,\n",
    "}\n",
    "\n",
    "losses_weights = {\n",
    "    \"classication_output\": L_adv,\n",
    "    \"validity_output\": alpha,\n",
    "    \"adv_image_output\": beta,\n",
    "}\n",
    "\n",
    "GAN_model.compile(optimizer=optimizer, loss=losses, loss_weights=losses_weights, metrics=[\"accuracy\"])\n",
    "GAN_model.summary()"
   ]
  },
  {
   "cell_type": "markdown",
   "metadata": {},
   "source": [
    "## AdvGAN Training"
   ]
  },
  {
   "cell_type": "code",
   "execution_count": 70,
   "metadata": {},
   "outputs": [
    {
     "name": "stdout",
     "output_type": "stream",
     "text": [
      "EPOCH: 0\n",
      "1/1 [==============================] - 0s 45ms/step\n",
      "1/1 [==============================] - 0s 34ms/step\n",
      "1/1 [==============================] - 0s 31ms/step\n"
     ]
    },
    {
     "ename": "ValueError",
     "evalue": "Failed to find data adapter that can handle input: <class 'numpy.ndarray'>, (<class 'dict'> containing {\"<class 'str'>\"} keys and {\"<class 'keras.losses.CategoricalCrossentropy'>\", \"<class 'numpy.ndarray'>\"} values)",
     "output_type": "error",
     "traceback": [
      "\u001b[1;31m---------------------------------------------------------------------------\u001b[0m",
      "\u001b[1;31mValueError\u001b[0m                                Traceback (most recent call last)",
      "Cell \u001b[1;32mIn [70], line 41\u001b[0m\n\u001b[0;32m     34\u001b[0m     y \u001b[39m=\u001b[39m {\n\u001b[0;32m     35\u001b[0m         \u001b[39m\"\u001b[39m\u001b[39mclassication_output\u001b[39m\u001b[39m\"\u001b[39m: target_prediction,\n\u001b[0;32m     36\u001b[0m         \u001b[39m\"\u001b[39m\u001b[39mvalidity_output\u001b[39m\u001b[39m\"\u001b[39m: y_fake,\n\u001b[0;32m     37\u001b[0m         \u001b[39m\"\u001b[39m\u001b[39madv_image_output\u001b[39m\u001b[39m\"\u001b[39m: L_hinge\n\u001b[0;32m     38\u001b[0m     }\n\u001b[0;32m     40\u001b[0m     \u001b[39m# GAN_model.train_on_batch(x=x, y=y, verbose=2)\u001b[39;00m\n\u001b[1;32m---> 41\u001b[0m     GAN_model\u001b[39m.\u001b[39;49mfit(x\u001b[39m=\u001b[39;49mx_fake, y\u001b[39m=\u001b[39;49my, epochs\u001b[39m=\u001b[39;49m\u001b[39m1\u001b[39;49m, batch_size\u001b[39m=\u001b[39;49mBATCH_SIZE, verbose\u001b[39m=\u001b[39;49m\u001b[39m2\u001b[39;49m)\n\u001b[0;32m     43\u001b[0m adv_generator\u001b[39m.\u001b[39msave(\u001b[39m\"\u001b[39m\u001b[39mmnist_adv_generator.h5\u001b[39m\u001b[39m\"\u001b[39m)\n\u001b[0;32m     44\u001b[0m discriminator\u001b[39m.\u001b[39msave(\u001b[39m\"\u001b[39m\u001b[39mmnist_adv_discriminator.h5\u001b[39m\u001b[39m\"\u001b[39m)\n",
      "File \u001b[1;32mc:\\Python\\Python310\\lib\\site-packages\\keras\\utils\\traceback_utils.py:70\u001b[0m, in \u001b[0;36mfilter_traceback.<locals>.error_handler\u001b[1;34m(*args, **kwargs)\u001b[0m\n\u001b[0;32m     67\u001b[0m     filtered_tb \u001b[39m=\u001b[39m _process_traceback_frames(e\u001b[39m.\u001b[39m__traceback__)\n\u001b[0;32m     68\u001b[0m     \u001b[39m# To get the full stack trace, call:\u001b[39;00m\n\u001b[0;32m     69\u001b[0m     \u001b[39m# `tf.debugging.disable_traceback_filtering()`\u001b[39;00m\n\u001b[1;32m---> 70\u001b[0m     \u001b[39mraise\u001b[39;00m e\u001b[39m.\u001b[39mwith_traceback(filtered_tb) \u001b[39mfrom\u001b[39;00m \u001b[39mNone\u001b[39m\n\u001b[0;32m     71\u001b[0m \u001b[39mfinally\u001b[39;00m:\n\u001b[0;32m     72\u001b[0m     \u001b[39mdel\u001b[39;00m filtered_tb\n",
      "File \u001b[1;32mc:\\Python\\Python310\\lib\\site-packages\\keras\\engine\\data_adapter.py:1083\u001b[0m, in \u001b[0;36mselect_data_adapter\u001b[1;34m(x, y)\u001b[0m\n\u001b[0;32m   1080\u001b[0m adapter_cls \u001b[39m=\u001b[39m [\u001b[39mcls\u001b[39m \u001b[39mfor\u001b[39;00m \u001b[39mcls\u001b[39m \u001b[39min\u001b[39;00m ALL_ADAPTER_CLS \u001b[39mif\u001b[39;00m \u001b[39mcls\u001b[39m\u001b[39m.\u001b[39mcan_handle(x, y)]\n\u001b[0;32m   1081\u001b[0m \u001b[39mif\u001b[39;00m \u001b[39mnot\u001b[39;00m adapter_cls:\n\u001b[0;32m   1082\u001b[0m     \u001b[39m# TODO(scottzhu): This should be a less implementation-specific error.\u001b[39;00m\n\u001b[1;32m-> 1083\u001b[0m     \u001b[39mraise\u001b[39;00m \u001b[39mValueError\u001b[39;00m(\n\u001b[0;32m   1084\u001b[0m         \u001b[39m\"\u001b[39m\u001b[39mFailed to find data adapter that can handle \u001b[39m\u001b[39m\"\u001b[39m\n\u001b[0;32m   1085\u001b[0m         \u001b[39m\"\u001b[39m\u001b[39minput: \u001b[39m\u001b[39m{}\u001b[39;00m\u001b[39m, \u001b[39m\u001b[39m{}\u001b[39;00m\u001b[39m\"\u001b[39m\u001b[39m.\u001b[39mformat(_type_name(x), _type_name(y))\n\u001b[0;32m   1086\u001b[0m     )\n\u001b[0;32m   1087\u001b[0m \u001b[39melif\u001b[39;00m \u001b[39mlen\u001b[39m(adapter_cls) \u001b[39m>\u001b[39m \u001b[39m1\u001b[39m:\n\u001b[0;32m   1088\u001b[0m     \u001b[39mraise\u001b[39;00m \u001b[39mRuntimeError\u001b[39;00m(\n\u001b[0;32m   1089\u001b[0m         \u001b[39m\"\u001b[39m\u001b[39mData adapters should be mutually exclusive for \u001b[39m\u001b[39m\"\u001b[39m\n\u001b[0;32m   1090\u001b[0m         \u001b[39m\"\u001b[39m\u001b[39mhandling inputs. Found multiple adapters \u001b[39m\u001b[39m{}\u001b[39;00m\u001b[39m to handle \u001b[39m\u001b[39m\"\u001b[39m\n\u001b[0;32m   1091\u001b[0m         \u001b[39m\"\u001b[39m\u001b[39minput: \u001b[39m\u001b[39m{}\u001b[39;00m\u001b[39m, \u001b[39m\u001b[39m{}\u001b[39;00m\u001b[39m\"\u001b[39m\u001b[39m.\u001b[39mformat(adapter_cls, _type_name(x), _type_name(y))\n\u001b[0;32m   1092\u001b[0m     )\n",
      "\u001b[1;31mValueError\u001b[0m: Failed to find data adapter that can handle input: <class 'numpy.ndarray'>, (<class 'dict'> containing {\"<class 'str'>\"} keys and {\"<class 'keras.losses.CategoricalCrossentropy'>\", \"<class 'numpy.ndarray'>\"} values)"
     ]
    }
   ],
   "source": [
    "BATCH_SIZE = 32\n",
    "EPOCHS = 1_000\n",
    "\n",
    "y_real = np.ones((BATCH_SIZE, 1))\n",
    "y_fake = np.zeros((BATCH_SIZE, 1))\n",
    "\n",
    "# Targeted Attack\n",
    "target_label = 0\n",
    "target_prediction = np.zeros(10)\n",
    "target_prediction[target_label] = 1\n",
    "target_prediction = np.array([target_prediction]*BATCH_SIZE)\n",
    "\n",
    "hinge_limit = np.full(shape=(BATCH_SIZE, 28,28,1), fill_value=c)\n",
    "\n",
    "for epoch in range(EPOCHS):\n",
    "    print(f\"EPOCH: {epoch}\")\n",
    "    x_real = np.array(random.choices(train_X, k=BATCH_SIZE))\n",
    "    \n",
    "    x_fake = adv_generator.predict(x_real)\n",
    "    x_fake_prediction = model.predict(x_fake)\n",
    "    x_fake_validity = discriminator.predict(x_fake)\n",
    "\n",
    "    perturbations = x_fake - x_real\n",
    "\n",
    "    discriminator.train_on_batch(x=x_real, y=y_real)\n",
    "    discriminator.train_on_batch(x=x_fake, y=y_fake)\n",
    "\n",
    "    x = {\n",
    "        \"mnist_classifier\": x_fake,\n",
    "        \"discriminator\": x_fake,\n",
    "        \"adv_image_output\": perturbations\n",
    "    }\n",
    "\n",
    "    y = {\n",
    "        \"classication_output\": target_prediction,\n",
    "        \"validity_output\": y_fake,\n",
    "        \"adv_image_output\": L_hinge\n",
    "    }\n",
    "\n",
    "    # GAN_model.train_on_batch(x=x, y=y, verbose=2)\n",
    "    GAN_model.fit(x=x_fake, y=y, epochs=1, batch_size=BATCH_SIZE, verbose=2)\n",
    "\n",
    "adv_generator.save(\"mnist_adv_generator.h5\")\n",
    "discriminator.save(\"mnist_adv_discriminator.h5\")"
   ]
  },
  {
   "cell_type": "code",
   "execution_count": null,
   "metadata": {},
   "outputs": [
    {
     "name": "stdout",
     "output_type": "stream",
     "text": [
      "1/1 [==============================] - 0s 76ms/step\n",
      "1/1 [==============================] - 0s 41ms/step\n",
      "p = 0\n",
      "p = 1\n",
      "p = 1\n",
      "p = 5\n",
      "p = 6\n",
      "p = 8\n",
      "p = 9\n",
      "p = 9\n",
      "p = 4\n"
     ]
    },
    {
     "data": {
      "image/png": "[encoded data removed]",
      "text/plain": [
       "<Figure size 640x480 with 9 Axes>"
      ]
     },
     "metadata": {},
     "output_type": "display_data"
    }
   ],
   "source": [
    "x_real = np.array(random.choices(train_X, k=BATCH_SIZE))\n",
    "x_fake = adv_generator.predict(x_real)\n",
    "x_fake_labels = model.predict(x_fake)\n",
    "\n",
    "for i in range(9):\n",
    "    fig = plt.subplot(3, 3, i+1)\n",
    "    plt.imshow(x_fake[i], cmap=plt.get_cmap('gray'))\n",
    "    print(f'p = {np.argmax(x_fake_labels[i])}')\n",
    "plt.show()"
   ]
  },
  {
   "cell_type": "code",
   "execution_count": null,
   "metadata": {},
   "outputs": [],
   "source": []
  }
 ],
 "metadata": {
  "kernelspec": {
   "display_name": "Python 3.10.0 64-bit",
   "language": "python",
   "name": "python3"
  },
  "language_info": {
   "codemirror_mode": {
    "name": "ipython",
    "version": 3
   },
   "file_extension": ".py",
   "mimetype": "text/x-python",
   "name": "python",
   "nbconvert_exporter": "python",
   "pygments_lexer": "ipython3",
   "version": "3.10.0"
  },
  "orig_nbformat": 4,
  "vscode": {
   "interpreter": {
    "hash": "d3e10ef16274dd72e574b8fa73b58450b957d8421a2901baded3cca26fcf5dda"
   }
  }
 },
 "nbformat": 4,
 "nbformat_minor": 2
}
